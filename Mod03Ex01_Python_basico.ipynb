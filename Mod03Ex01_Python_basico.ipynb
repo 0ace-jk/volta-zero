{
  "cells": [
    {
      "cell_type": "markdown",
      "metadata": {
        "id": "view-in-github",
        "colab_type": "text"
      },
      "source": [
        "<a href=\"https://colab.research.google.com/github/0ace-jk/volta-zero/blob/main/Mod03Ex01_Python_basico.ipynb\" target=\"_parent\"><img src=\"https://colab.research.google.com/assets/colab-badge.svg\" alt=\"Open In Colab\"/></a>"
      ]
    },
    {
      "cell_type": "markdown",
      "metadata": {
        "id": "SEE0vQsW83yB"
      },
      "source": [
        "### 01 - Teste de gravidez\n",
        "Escreva uma célula com controle de fluxos que tem como premissa a existência das seguintes variáveis:\n",
        "\n",
        "- ```sexo``` como ```str``` indicando os valores '**M**' para masculino e '**F**' para feminino  \n",
        "- ```beta_hcg``` que indica a quantidade do beta-HCG no sangue em mUI/mL.\n",
        "\n",
        "A sua tarefa é escrever um código que imprima como resultado \"indivíduo do sexo masculino\" quando sexo = 'M', caso sexo = 'F', se o valor de beta-HCG for maior que 5, retorne \"Positivo\" indicando que a paciente está grávida, e retorne \"Negativo\" caso contrário.\n",
        "\n",
        "Não mexa nos valores da variável ```sexo``` nem em ```beta_hcg```, e escreva um código que funcione para quaisquer valores possíveis de ambos: ```sexo``` = '**M**' ou '**F**' e ```beta_hcg``` assumindo valores inteiros positivos."
      ]
    },
    {
      "cell_type": "code",
      "execution_count": 9,
      "metadata": {
        "id": "cTOc4LG683yE",
        "colab": {
          "base_uri": "https://localhost:8080/"
        },
        "outputId": "af81f1f9-1e79-42b5-d56c-2e96885816f1"
      },
      "outputs": [
        {
          "output_type": "stream",
          "name": "stdout",
          "text": [
            "individuo do sexo masculino\n"
          ]
        }
      ],
      "source": [
        "sexo = 'M'\n",
        "beta_hcg = 0\n",
        "\n",
        "# seu código vem abaixo desta linha\n",
        "if sexo == 'M':\n",
        "    print('individuo do sexo masculino')\n",
        "elif sexo == 'F' and beta_hcg > 5:\n",
        "    print('Positivo')\n",
        "else:\n",
        "    print('Negativo')"
      ]
    },
    {
      "cell_type": "markdown",
      "metadata": {
        "id": "uCoIZDE383yF"
      },
      "source": [
        "### 02 - Renomeando variáveis\n",
        "\n",
        "Vamos ver adiante que uma forma de renomear variáveis de um conjunto de dados é através de dicionários - o dicionário deve conter como chave o nome original, associando a cada chave um único valor (tipo *str*) que contenha o nome novo.\n",
        "\n",
        "A sua tarefa é escrever um dicionário que possa ser utilizado para traduzir as variáveis ```name``` (nome), ```age``` (idade) e ```income``` (renda). Ou seja, esse dicionário deve relacionar as chaves *name, age* e *income* às suas respectivas traduções."
      ]
    },
    {
      "cell_type": "code",
      "execution_count": 10,
      "metadata": {
        "id": "Bh6ijpbu83yG",
        "outputId": "9a9c49b6-92b2-44a3-a62a-d106514e80ec",
        "colab": {
          "base_uri": "https://localhost:8080/"
        }
      },
      "outputs": [
        {
          "output_type": "execute_result",
          "data": {
            "text/plain": [
              "{'name': 'nome', 'age': 'idade', 'income': 'renda'}"
            ]
          },
          "metadata": {},
          "execution_count": 10
        }
      ],
      "source": [
        "dic_renomeacao = {'name': 'nome', 'age': 'idade', 'income': 'renda'}\n",
        "dic_renomeacao"
      ]
    },
    {
      "cell_type": "markdown",
      "metadata": {
        "id": "95zumO5g83yH"
      },
      "source": [
        "### 03 - É divisível?\n",
        "A sua tarefa é escrever um código que indique se um número ```N``` é divisível por um número P. Escreva um programa que faça essa verificação para quaisquer combinações de ```N``` e ```M``` e devolva uma mensagem indicativa no output."
      ]
    },
    {
      "cell_type": "code",
      "execution_count": 66,
      "metadata": {
        "id": "BR2zOhmN83yI",
        "colab": {
          "base_uri": "https://localhost:8080/"
        },
        "outputId": "aeb91d21-48d4-4333-c641-dc567780419a"
      },
      "outputs": [
        {
          "output_type": "stream",
          "name": "stdout",
          "text": [
            "42 Não é divisivel por 8\n"
          ]
        }
      ],
      "source": [
        "N = 42\n",
        "M = 7\n",
        "\n",
        "#Seu código\n",
        "if N % M == 0:\n",
        "    print(f'{N} É divisivel por {M}')\n",
        "else:\n",
        "    print(f'{N} Não é divisivel por {M}')"
      ]
    },
    {
      "cell_type": "markdown",
      "metadata": {
        "id": "0d5Kdrz283yJ"
      },
      "source": [
        "### 04 - Números primos\n",
        "> Um número **N** é primo se e somente se é divisível por 1, -1, por **N** e por -**N**.  \n",
        "\n",
        "Escreva um script que verifica se ```N``` é um número primo, verificando se ```N``` é divisível por todos os números de ```1``` a ```N-1```. Você vai precisar usar alguma ferramenta de *loop* que você aprendeu para isto. No final, devolva uma mensagem no output indicando se o número é primo ou não."
      ]
    },
    {
      "cell_type": "code",
      "execution_count": 119,
      "metadata": {
        "id": "h_lFO-EO83yJ",
        "colab": {
          "base_uri": "https://localhost:8080/"
        },
        "outputId": "85587d13-da07-4cfa-d422-5addc55faa67"
      },
      "outputs": [
        {
          "output_type": "stream",
          "name": "stdout",
          "text": [
            "42 Não é um numero primo porque é divisivel por 2\n"
          ]
        }
      ],
      "source": [
        "N = 42\n",
        "\n",
        "# seu código abaixo\n",
        "\n",
        "for i in range(2, N):\n",
        "    if N % i == 0:\n",
        "        print(f'{N} Não é um numero primo porque é divisivel por {i}')\n",
        "        break\n",
        "else:\n",
        "    print(f'{N} É um numero primo')"
      ]
    },
    {
      "cell_type": "markdown",
      "metadata": {
        "id": "zHwDnURO83yK"
      },
      "source": [
        "### 05 - Desafio\n",
        "O algorítmo do exercício anterior não é o mais eficiente. O que você pode fazer para deixá-lo mais eficiente? Ou seja, executar menos comparações, portanto consumir menos tempo.\n",
        "1. Será que precisamos correr o loop até o final sempre?\n",
        "2. Será que precisamos mesmo verificar **todos** os números?\n",
        "3. Será que precisamos ir até N-1?\n",
        "\n",
        "Essas perguntas levam ao tipo de pensamento voltado a deixar um algoritmo mais eficiente. Veja se você consegue melhorar o seu."
      ]
    },
    {
      "cell_type": "code",
      "execution_count": 120,
      "metadata": {
        "id": "DDdwfZOL83yM",
        "colab": {
          "base_uri": "https://localhost:8080/"
        },
        "outputId": "2a4ee4f4-545f-4d4f-b040-f192fb88b43f"
      },
      "outputs": [
        {
          "output_type": "stream",
          "name": "stdout",
          "text": [
            "98 Não é um numero primo porque é divisivel por 2\n"
          ]
        }
      ],
      "source": [
        "N = 98\n",
        "\n",
        "# seu código aqui\n",
        "\n",
        "for i in range(2, N):\n",
        "    if N % i == 0:\n",
        "        print(f'{N} Não é um numero primo porque é divisivel por {i}')\n",
        "        break\n",
        "else:\n",
        "    print(f'{N} É um numero primo')"
      ]
    },
    {
      "cell_type": "markdown",
      "metadata": {
        "id": "4zhVSQan83yN"
      },
      "source": [
        "### 06 - Peso ideal 1\n",
        "O IMC (índice de massa corpórea) é um indicador de saúde mais bem aceito que o peso. Ele é calculado como:\n",
        "\n",
        "$$ IMC = \\dfrac{peso}{altura^2}$$\n",
        "\n",
        "Segundo a OMS, valores *normais* são entre 18.5 e 24.9.\n",
        "\n",
        "Sua tarefa é encontrar o ponto médio dessa faixa."
      ]
    },
    {
      "cell_type": "code",
      "execution_count": 121,
      "metadata": {
        "id": "3DzxicN983yO",
        "outputId": "f4b3930c-5c42-4fa1-bc61-aba832e5246d",
        "colab": {
          "base_uri": "https://localhost:8080/"
        }
      },
      "outputs": [
        {
          "output_type": "execute_result",
          "data": {
            "text/plain": [
              "21.7"
            ]
          },
          "metadata": {},
          "execution_count": 121
        }
      ],
      "source": [
        "imc_ideal = (18.5 + 24.9) / 2\n",
        "imc_ideal"
      ]
    },
    {
      "cell_type": "markdown",
      "metadata": {
        "id": "Z8uBOym483yP"
      },
      "source": [
        "### 07 - Peso ideal 2\n",
        "Recebendo um valor de altura, encontre o peso '*ideal*' dessa pessoa, que fornece o IMC encontrado acima"
      ]
    },
    {
      "cell_type": "code",
      "execution_count": 124,
      "metadata": {
        "id": "rrNwycte83yP",
        "outputId": "c1aa71b3-323c-4409-a8cc-ed6f244b3506",
        "colab": {
          "base_uri": "https://localhost:8080/"
        }
      },
      "outputs": [
        {
          "output_type": "execute_result",
          "data": {
            "text/plain": [
              "62.712999999999994"
            ]
          },
          "metadata": {},
          "execution_count": 124
        }
      ],
      "source": [
        "altura = 1.70\n",
        "\n",
        "# Seu código\n",
        "peso_ideal = altura**2 * imc_ideal\n",
        "peso_ideal"
      ]
    },
    {
      "cell_type": "markdown",
      "metadata": {
        "id": "zEdM6J_i83yP"
      },
      "source": [
        "### 08 - Peso ideal 3\n",
        "Dada uma lista contendo as alturas de pacientes, crie uma nova lista que contenha o peso '*ideal*' (que fornece o IMC calculado em **Peso ideal 1**) desses pacientes."
      ]
    },
    {
      "cell_type": "code",
      "execution_count": 126,
      "metadata": {
        "id": "KN1mB_My83yQ",
        "outputId": "0860e94c-b8ba-47df-bf24-15e861dd3863",
        "colab": {
          "base_uri": "https://localhost:8080/"
        }
      },
      "outputs": [
        {
          "output_type": "execute_result",
          "data": {
            "text/plain": [
              "[82.51424999999999, 91.19425, 62.712999999999994, 59.07824999999999]"
            ]
          },
          "metadata": {},
          "execution_count": 126
        }
      ],
      "source": [
        "lista_alturas = [1.95, 2.05, 1.70, 1.65]\n",
        "\n",
        "lista_peso_ideal = []\n",
        "\n",
        "# seu código\n",
        "\n",
        "lista_peso_ideal = [lista_alturas[0]**2 * imc_ideal,\n",
        "                    lista_alturas[1]**2 * imc_ideal,\n",
        "                    lista_alturas[2]**2 * imc_ideal,\n",
        "                    lista_alturas[3]**2 * imc_ideal]\n",
        "\n",
        "lista_peso_ideal"
      ]
    },
    {
      "cell_type": "markdown",
      "metadata": {
        "id": "8OKAtYQM83yQ"
      },
      "source": [
        "### 09 - Peso ideal 4\n",
        "Dada uma lista de tuplas - cada elemento da lista é uma tupla contendo altura e peso de um paciente - crie uma nova lista com o IMC desses pacientes."
      ]
    },
    {
      "cell_type": "code",
      "execution_count": 141,
      "metadata": {
        "id": "FaXgkjzI83yQ",
        "outputId": "2b8ca609-2cd6-41d4-c54d-1d6432ed05db",
        "colab": {
          "base_uri": "https://localhost:8080/"
        }
      },
      "outputs": [
        {
          "output_type": "execute_result",
          "data": {
            "text/plain": [
              "[27.777777777777775, 27.548209366391188, 19.188070502453332]"
            ]
          },
          "metadata": {},
          "execution_count": 141
        }
      ],
      "source": [
        "altura_peso = [(1.80, 90), (1.65, 75), (1.91, 70)]\n",
        "\n",
        "imc = []\n",
        "\n",
        "# seu código\n",
        "\n",
        "for i in altura_peso:\n",
        "    imc.append(i[1] / i[0]**2)\n",
        "\n",
        "imc"
      ]
    },
    {
      "cell_type": "markdown",
      "metadata": {
        "id": "kZdSJqJq83yR"
      },
      "source": [
        "### 10 - Peso ideal 5\n",
        "Dada uma lista de **listas** - cada elemento da lista é uma **lista** contendo altura e peso de um paciente, adicione mais um elemento à lista de cada paciente contendo o IMC do paciente. Verifique também se é 'baixo', 'normal' ou 'alto' segundo os padrões da OMS em que normal é entre 18.5 e 24.9.\n",
        "\n",
        "Reflexão: por que no problema anterior temos que criar uma nova lista, e não podemos adicionar os dados de cada indivíduo à tupla?"
      ]
    },
    {
      "cell_type": "code",
      "execution_count": 201,
      "metadata": {
        "id": "EwszojP283yR",
        "colab": {
          "base_uri": "https://localhost:8080/"
        },
        "outputId": "b340dec9-d9cd-4a12-d688-c84eee882ea4"
      },
      "outputs": [
        {
          "output_type": "execute_result",
          "data": {
            "text/plain": [
              "[[1.8, 90, 27.777777777777775, 'alto'],\n",
              " [1.65, 75, 27.548209366391188, 'alto'],\n",
              " [1.91, 70, 19.188070502453332, 'normal']]"
            ]
          },
          "metadata": {},
          "execution_count": 201
        }
      ],
      "source": [
        "altura_peso = [[1.80, 90], [1.65, 75], [1.91, 70]]\n",
        "\n",
        "# seu código\n",
        "\n",
        "altura_peso\n",
        "\n",
        "for i in altura_peso:\n",
        "    altura_peso[altura_peso.index(i)].append(i[1] / i[0]**2)\n",
        "    if altura_peso[altura_peso.index(i)][2] < 18.5:\n",
        "        altura_peso[altura_peso.index(i)].append('baixo')\n",
        "    elif altura_peso[altura_peso.index(i)][2] > 24.9:\n",
        "        altura_peso[altura_peso.index(i)].append('alto')\n",
        "    else:\n",
        "        altura_peso[altura_peso.index(i)].append('normal')\n",
        "\n",
        "altura_peso"
      ]
    }
  ],
  "metadata": {
    "kernelspec": {
      "display_name": "Python 3",
      "language": "python",
      "name": "python3"
    },
    "language_info": {
      "codemirror_mode": {
        "name": "ipython",
        "version": 3
      },
      "file_extension": ".py",
      "mimetype": "text/x-python",
      "name": "python",
      "nbconvert_exporter": "python",
      "pygments_lexer": "ipython3",
      "version": "3.8.5"
    },
    "colab": {
      "provenance": [],
      "include_colab_link": true
    }
  },
  "nbformat": 4,
  "nbformat_minor": 0
}